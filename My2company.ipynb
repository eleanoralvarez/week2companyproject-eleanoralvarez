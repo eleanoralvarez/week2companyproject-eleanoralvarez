{
 "cells": [
  {
   "cell_type": "code",
   "execution_count": 49,
   "id": "09adf53a-10c3-4014-b7fe-dbc2782098a2",
   "metadata": {
    "tags": []
   },
   "outputs": [],
   "source": [
    "import psycopg2"
   ]
  },
  {
   "cell_type": "code",
   "execution_count": 50,
   "id": "bf3f8263-cf10-417b-9c60-c37c8eea7494",
   "metadata": {
    "tags": []
   },
   "outputs": [],
   "source": [
    "conn = psycopg2.connect(\n",
    "database=\"Employees\",\n",
    "host=\"localhost\",\n",
    "user=\"postgres\",\n",
    "password=\"#butterfly12!\",\n",
    "port=\"5432\")"
   ]
  },
  {
   "cell_type": "code",
   "execution_count": 51,
   "id": "b9b5bfe2-8bc6-4515-8da3-6aea350aa44d",
   "metadata": {
    "tags": []
   },
   "outputs": [],
   "source": [
    "cursor = conn.cursor()"
   ]
  },
  {
   "cell_type": "code",
   "execution_count": 64,
   "id": "5c1004a3-fdfd-4e0d-931f-616d9ffb5b7c",
   "metadata": {
    "tags": []
   },
   "outputs": [],
   "source": [
    "# Question 1"
   ]
  },
  {
   "cell_type": "code",
   "execution_count": 52,
   "id": "d00b3331-a951-4e1b-bc49-e93b59f0ac96",
   "metadata": {
    "tags": []
   },
   "outputs": [
    {
     "name": "stdout",
     "output_type": "stream",
     "text": [
      "(30, 'Marketing')\n",
      "(40, 'IT')\n",
      "(30, 'HR')\n"
     ]
    }
   ],
   "source": [
    "cursor.execute('''SELECT COUNT(p.\"project_id\"), d.\"department_name\"\n",
    "    FROM \"employees\" e\n",
    "    LEFT JOIN \"departments\" d ON e.\"department_id\" = d.\"department_id\"\n",
    "    LEFT JOIN \"projects\" p ON e.\"project_id\" = p.\"project_id\"\n",
    "    GROUP BY d.\"department_name\";''')\n",
    "               \n",
    "rows = cursor.fetchall()\n",
    "\n",
    "conn.commit()\n",
    "\n",
    "for row in rows:\n",
    "    print (row)"
   ]
  },
  {
   "cell_type": "code",
   "execution_count": 65,
   "id": "2c720699-2cf3-4f3d-a984-a9cc8bcff5c0",
   "metadata": {
    "tags": []
   },
   "outputs": [],
   "source": [
    "# Question 2"
   ]
  },
  {
   "cell_type": "code",
   "execution_count": 53,
   "id": "ad4a0163-c87b-4631-976b-01f9ca6bc4ba",
   "metadata": {
    "tags": []
   },
   "outputs": [
    {
     "name": "stdout",
     "output_type": "stream",
     "text": [
      "(4, 'In Progress')\n",
      "(3, 'Completed')\n",
      "(3, 'Not Started')\n"
     ]
    }
   ],
   "source": [
    "cursor.execute('''SELECT COUNT(p.\"project_status\"), p.\"project_status\" \n",
    "    FROM \"projects\" p\n",
    "    GROUP BY p.\"project_status\";''')\n",
    "    \n",
    "rows = cursor.fetchall()\n",
    "\n",
    "conn.commit()\n",
    "\n",
    "for row in rows:\n",
    "    print(row)"
   ]
  },
  {
   "cell_type": "code",
   "execution_count": null,
   "id": "187c5b03-5e79-4e7d-969e-16f11e670dcd",
   "metadata": {},
   "outputs": [],
   "source": [
    "# Question 3"
   ]
  },
  {
   "cell_type": "code",
   "execution_count": 54,
   "id": "efce974c-8774-42d3-8459-50041d513fdd",
   "metadata": {
    "tags": []
   },
   "outputs": [
    {
     "name": "stdout",
     "output_type": "stream",
     "text": [
      "(20, 'Database Design')\n",
      "(20, 'Marketing')\n",
      "(10, 'Design')\n",
      "(20, 'Recruiting')\n",
      "(10, 'Employee Relations')\n",
      "(20, 'Programming')\n"
     ]
    }
   ],
   "source": [
    "cursor.execute('''SELECT COUNT(e.\"employee_id\"), e.\"skill\" \n",
    "    FROM \"employees\" e\n",
    "    GROUP BY e.\"skill\";''')\n",
    "    \n",
    "rows = cursor.fetchall()\n",
    "\n",
    "conn.commit()\n",
    "\n",
    "for row in rows:\n",
    "    print(row)"
   ]
  },
  {
   "cell_type": "code",
   "execution_count": null,
   "id": "52cafb22-7875-4e74-9c33-93409f120160",
   "metadata": {},
   "outputs": [],
   "source": [
    "# Question 5"
   ]
  },
  {
   "cell_type": "code",
   "execution_count": 55,
   "id": "30591e61-f0f7-42d5-a893-0efddf07b1a3",
   "metadata": {
    "tags": []
   },
   "outputs": [
    {
     "name": "stdout",
     "output_type": "stream",
     "text": [
      "('Xavier', 'Employee Onboarding')\n",
      "('Sophie', 'Employee Onboarding')\n",
      "('Natalie', 'Employee Onboarding')\n",
      "('Katherine', 'Employee Onboarding')\n",
      "('George', 'Employee Onboarding')\n",
      "('Alex', 'Employee Onboarding')\n",
      "('Victoria', 'Employee Onboarding')\n",
      "('Pamela', 'Employee Onboarding')\n",
      "('Jane', 'Employee Onboarding')\n",
      "('Alice', 'Employee Onboarding')\n",
      "('Yvonne', 'System Upgrade')\n",
      "('Simon', 'System Upgrade')\n",
      "('Noah', 'System Upgrade')\n",
      "('Kevin', 'System Upgrade')\n",
      "('Gina', 'System Upgrade')\n",
      "('Amy', 'System Upgrade')\n",
      "('Vincent', 'System Upgrade')\n",
      "('Paul', 'System Upgrade')\n",
      "('John', 'System Upgrade')\n",
      "('Bob', 'System Upgrade')\n",
      "('Zack', 'Ad Campaign')\n",
      "('Taylor', 'Ad Campaign')\n",
      "('Olivia', 'Ad Campaign')\n",
      "('Laura', 'Ad Campaign')\n",
      "('Henry', 'Ad Campaign')\n",
      "('Ben', 'Ad Campaign')\n",
      "('Wendy', 'Ad Campaign')\n",
      "('Quinn', 'Ad Campaign')\n",
      "('Kate', 'Ad Campaign')\n",
      "('Carol', 'Ad Campaign')\n",
      "('Zara', 'Training Program')\n",
      "('Thomas', 'Training Program')\n",
      "('Owen', 'Training Program')\n",
      "('Liam', 'Training Program')\n",
      "('Holly', 'Training Program')\n",
      "('Chloe', 'Training Program')\n",
      "('William', 'Training Program')\n",
      "('Rachel', 'Training Program')\n",
      "('Leo', 'Training Program')\n",
      "('David', 'Training Program')\n",
      "('Zane', 'Data Migration')\n",
      "('Tracy', 'Data Migration')\n",
      "('Penny', 'Data Migration')\n",
      "('Lily', 'Data Migration')\n",
      "('Ian', 'Data Migration')\n",
      "('Chris', 'Data Migration')\n",
      "('Xander', 'Data Migration')\n",
      "('Ryan', 'Data Migration')\n",
      "('Lily', 'Data Migration')\n",
      "('Eve', 'Data Migration')\n",
      "('Zoey', 'Website Redesign')\n",
      "('Tina', 'Website Redesign')\n",
      "('Quincy', 'Website Redesign')\n",
      "('Matt', 'Website Redesign')\n",
      "('Isabel', 'Website Redesign')\n",
      "('Diana', 'Website Redesign')\n",
      "('Yasmine', 'Website Redesign')\n",
      "('Samantha', 'Website Redesign')\n",
      "('Mark', 'Website Redesign')\n",
      "('Frank', 'Website Redesign')\n",
      "('Zachary', 'Mobile App Launch')\n",
      "('Victor', 'Mobile App Launch')\n",
      "('Quinn', 'Mobile App Launch')\n",
      "('Mia', 'Mobile App Launch')\n",
      "('Jackie', 'Mobile App Launch')\n",
      "('Dan', 'Mobile App Launch')\n",
      "('Zach', 'Mobile App Launch')\n",
      "('Scott', 'Mobile App Launch')\n",
      "('Nancy', 'Mobile App Launch')\n",
      "('Grace', 'Mobile App Launch')\n",
      "('Zoe', 'Internship Program')\n",
      "('Vanessa', 'Internship Program')\n",
      "('Rachel', 'Internship Program')\n",
      "('Michael', 'Internship Program')\n",
      "('James', 'Internship Program')\n",
      "('Emma', 'Internship Program')\n",
      "('Zoe', 'Internship Program')\n",
      "('Sophia', 'Internship Program')\n",
      "('Oliver', 'Internship Program')\n",
      "('Harry', 'Internship Program')\n",
      "('Ziggy', 'Product Launch')\n",
      "('William', 'Product Launch')\n",
      "('Richard', 'Product Launch')\n",
      "('Molly', 'Product Launch')\n",
      "('Jasmine', 'Product Launch')\n",
      "('Ethan', 'Product Launch')\n",
      "('Zane', 'Product Launch')\n",
      "('Steven', 'Product Launch')\n",
      "('Olivia', 'Product Launch')\n",
      "('Irene', 'Product Launch')\n",
      "('Zander', 'System Integration')\n",
      "('Wendy', 'System Integration')\n",
      "('Rebecca', 'System Integration')\n",
      "('Nathan', 'System Integration')\n",
      "('John', 'System Integration')\n",
      "('Emily', 'System Integration')\n",
      "('Zara', 'System Integration')\n",
      "('Thomas', 'System Integration')\n",
      "('Oscar', 'System Integration')\n",
      "('Jack', 'System Integration')\n"
     ]
    }
   ],
   "source": [
    "cursor.execute('''SELECT e.\"employee_name\", p.\"project_name\"\n",
    "    FROM \"employees\" e\n",
    "    LEFT JOIN \"projects\" p ON e.\"project_id\" = p.\"project_id\";''')\n",
    "               \n",
    "rows = cursor.fetchall()\n",
    "\n",
    "conn.commit()\n",
    "\n",
    "for row in rows:\n",
    "    print (row)"
   ]
  },
  {
   "cell_type": "code",
   "execution_count": null,
   "id": "f105d5e9-ec0d-43a5-a1fc-0aee77e49ef1",
   "metadata": {},
   "outputs": [],
   "source": [
    "# Question 6"
   ]
  },
  {
   "cell_type": "code",
   "execution_count": 66,
   "id": "f5ba48a4-4d8a-4707-b170-2cc988d40e9b",
   "metadata": {
    "tags": []
   },
   "outputs": [
    {
     "name": "stdout",
     "output_type": "stream",
     "text": [
      "('PJ0007', 'Mobile App Launch', 'In Progress', 'HR')\n",
      "('Grace',)\n",
      "('Nancy',)\n",
      "('Scott',)\n",
      "('Zach',)\n",
      "('Dan',)\n",
      "('Jackie',)\n",
      "('Mia',)\n",
      "('Quinn',)\n",
      "('Victor',)\n",
      "('Zachary',)\n"
     ]
    }
   ],
   "source": [
    "cursor.execute('''SELECT p.\"project_id\", p.\"project_name\", p.\"project_status\", d.\"department_name\"\n",
    "    FROM \"projects\" p\n",
    "    INNER JOIN \"departments\" d ON p.\"department_id\" = d.\"department_id\"\n",
    "    WHERE p.\"project_name\" = 'Mobile App Launch';''')\n",
    "               \n",
    "rows = cursor.fetchall()\n",
    "\n",
    "conn.commit()\n",
    "\n",
    "for row in rows:\n",
    "    print (row)\n",
    "    \n",
    "cursor.execute('''SELECT e.\"employee_name\"\n",
    "    FROM \"employees\" e\n",
    "    INNER JOIN \"projects\" p ON e.\"project_id\" = p.\"project_id\"\n",
    "    WHERE p.\"project_name\" = 'Mobile App Launch';''')\n",
    "\n",
    "rows = cursor.fetchall()\n",
    "\n",
    "conn.commit()\n",
    "\n",
    "for row in rows:\n",
    "    print (row)"
   ]
  },
  {
   "cell_type": "code",
   "execution_count": 67,
   "id": "23ab04b7-737e-4693-9695-4dd7e6b9405f",
   "metadata": {
    "tags": []
   },
   "outputs": [],
   "source": [
    "# Question 8"
   ]
  },
  {
   "cell_type": "code",
   "execution_count": 57,
   "id": "7063e944-00d2-484f-9d71-dddbc2793a93",
   "metadata": {},
   "outputs": [
    {
     "name": "stdout",
     "output_type": "stream",
     "text": [
      "(40, 'In Progress')\n",
      "(30, 'Completed')\n",
      "(30, 'Not Started')\n"
     ]
    }
   ],
   "source": [
    "cursor.execute('''SELECT count(e.\"employee_name\"), p.\"project_status\"\n",
    "    FROM \"employees\" e\n",
    "    FULL OUTER JOIN \"projects\" p ON p.\"project_id\" = e.\"project_id\"\n",
    "    GROUP BY p.\"project_status\";''')\n",
    "               \n",
    "rows = cursor.fetchall()\n",
    "\n",
    "conn.commit()\n",
    "\n",
    "for row in rows:\n",
    "    print (row)\n",
    "    "
   ]
  },
  {
   "cell_type": "code",
   "execution_count": 68,
   "id": "c176da1b-95e2-4e36-a360-fd4eb03efec6",
   "metadata": {
    "tags": []
   },
   "outputs": [],
   "source": [
    "# Question 9"
   ]
  },
  {
   "cell_type": "code",
   "execution_count": 58,
   "id": "a5750f6e-82ef-4e60-97c9-de7d5f9e6aea",
   "metadata": {
    "tags": []
   },
   "outputs": [
    {
     "name": "stdout",
     "output_type": "stream",
     "text": [
      "('HR', 'In Progress', 2)\n",
      "('HR', 'Not Started', 1)\n",
      "('IT', 'Completed', 2)\n",
      "('IT', 'Not Started', 2)\n",
      "('Marketing', 'Completed', 1)\n",
      "('Marketing', 'In Progress', 2)\n"
     ]
    }
   ],
   "source": [
    "cursor.execute('''SELECT d.\"department_name\", p.\"project_status\", count(p.\"project_status\")\n",
    "    FROM \"projects\" p\n",
    "    FULL OUTER JOIN \"departments\" d ON p.\"department_id\" = d.\"department_id\"\n",
    "    GROUP BY d.\"department_name\", p.\"project_status\"\n",
    "    ORDER BY d.\"department_name\", p.\"project_status\";''')\n",
    "               \n",
    "rows = cursor.fetchall()\n",
    "\n",
    "conn.commit()\n",
    "\n",
    "for row in rows:\n",
    "    print (row)\n",
    "cursor.execute('''SELECT COUNT(e.\"employee_id\"), e.\"skill\" \n",
    "    FROM \"employees\" e\n",
    "    GROUP BY e.\"skill\";''')\n",
    "        "
   ]
  },
  {
   "cell_type": "code",
   "execution_count": 69,
   "id": "4fb3ede9-adc6-4a7f-9a75-95d6730da436",
   "metadata": {
    "tags": []
   },
   "outputs": [],
   "source": [
    "# Question 10"
   ]
  },
  {
   "cell_type": "code",
   "execution_count": 63,
   "id": "d67a1cc1-7948-4929-b095-abf8070094b6",
   "metadata": {
    "tags": []
   },
   "outputs": [
    {
     "name": "stdout",
     "output_type": "stream",
     "text": [
      "('Grace', 'IT', 'Mobile App Launch')\n",
      "('Nancy', 'IT', 'Mobile App Launch')\n",
      "('Scott', 'IT', 'Mobile App Launch')\n",
      "('Zach', 'IT', 'Mobile App Launch')\n",
      "('Dan', 'IT', 'Mobile App Launch')\n",
      "('Jackie', 'IT', 'Mobile App Launch')\n",
      "('Mia', 'IT', 'Mobile App Launch')\n",
      "('Quinn', 'IT', 'Mobile App Launch')\n",
      "('Victor', 'IT', 'Mobile App Launch')\n",
      "('Zachary', 'IT', 'Mobile App Launch')\n"
     ]
    }
   ],
   "source": [
    "cursor.execute('''SELECT e.\"employee_name\", d.\"department_name\", p.\"project_name\"\n",
    "    FROM \"employees\" e\n",
    "    LEFT JOIN \"projects\" p ON e.\"project_id\" = p.\"project_id\"\n",
    "    LEFT JOIN \"departments\" d ON e.\"department_id\" = d.\"department_id\"\n",
    "    WHERE e.\"skill\" = 'Programming' AND p.\"project_status\" = 'In Progress';''')\n",
    "    \n",
    "               \n",
    "rows = cursor.fetchall()\n",
    "\n",
    "conn.commit()\n",
    "\n",
    "for row in rows:\n",
    "    print (row)\n",
    "    "
   ]
  }
 ],
 "metadata": {
  "kernelspec": {
   "display_name": "Python 3 (ipykernel)",
   "language": "python",
   "name": "python3"
  },
  "language_info": {
   "codemirror_mode": {
    "name": "ipython",
    "version": 3
   },
   "file_extension": ".py",
   "mimetype": "text/x-python",
   "name": "python",
   "nbconvert_exporter": "python",
   "pygments_lexer": "ipython3",
   "version": "3.11.5"
  }
 },
 "nbformat": 4,
 "nbformat_minor": 5
}
